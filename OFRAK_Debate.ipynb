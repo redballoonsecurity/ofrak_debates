{
 "cells": [
  {
   "cell_type": "markdown",
   "id": "c125f4e9-a8ae-4547-bab6-3f9cb595761d",
   "metadata": {},
   "source": [
    "# OFRAK Debate\n",
    "\n",
    "**First**, Why.\n",
    "\n",
    "OFRAK, the Open Firmware Reverse Analysis Konsole, is a framework that lets you do very fancy firmware analysis, very brave assured micro firmware patching, in a simple interface that lets you roll in all your favorite tools into an eloquent, agile ninja workflow. This is not a tool to run a LLM-driven fevor dream of a presidential debate.\n",
    "\n",
    "\n",
    "**Second**, Huh?\n",
    "Yes. OFRAK is kick ass for firmware stuff. But can you do fancy complicated things that isn't in the old boring process of unpack, analyze, modify, repack? Let's find out.\n",
    "\n",
    "**Third**, How?\n",
    "Look below. You can do intersting scaled things if you know how to work with FirmwareObject (<-replace with what we call it now), our new dumb simple LLM analyzer interface, and a little healthy sense of amazifunventure.\n",
    "\n",
    "**Fourth**, Who the f#@(@#! is this clown moderator?\n",
    "IT is a doctor, anonymous user. And that's Doctor Clown to you, bachelor.\n",
    "\n",
    "Now let's get on with the show. Install OFRAK, Pull OFRAK project, put in your own API tokens for the LLM stuff, laugh or sigh. up to you -)"
   ]
  },
  {
   "cell_type": "markdown",
   "id": "f52274fa-de2f-46ac-9bd9-0abe1be4d703",
   "metadata": {},
   "source": [
    "## Install\n",
    "OFRAK's LLM featuers are on a wip dev branch. Let's pull in that version here and get that installed."
   ]
  },
  {
   "cell_type": "code",
   "execution_count": null,
   "id": "52c51170-8e64-4d6d-b34b-7585fac3d8e2",
   "metadata": {},
   "outputs": [],
   "source": [
    "!git clone -b feature/llm-analyzer https://github.com/rbs-jacob/ofrak.git"
   ]
  },
  {
   "cell_type": "code",
   "execution_count": null,
   "id": "51526dcf-1a62-470a-9535-6bc4b70843fc",
   "metadata": {},
   "outputs": [],
   "source": [
    "!pushd ofrak/ofrak_type && make install && popd\n",
    "!pushd ofrak/ofrak_io && make install && popd\n",
    "!pushd ofrak/ofrak_patch_maker && make install && popd\n",
    "!pushd ofrak/frontend && npm install && npm run build && popd\n",
    "!pushd ofrak/ofrak_core && cp -r ../frontend/dist ofrak/gui/public && make install && pushd"
   ]
  },
  {
   "cell_type": "markdown",
   "id": "c06744aa-b7cd-4ec4-98fe-f5580bcd3793",
   "metadata": {},
   "source": [
    "If that all worke, you should see some Llm analyzers:"
   ]
  },
  {
   "cell_type": "code",
   "execution_count": 11,
   "id": "986d2fbf-44c6-4b40-b5b7-da43be37a95f",
   "metadata": {},
   "outputs": [
    {
     "name": "stdout",
     "output_type": "stream",
     "text": [
      "\tLlmAnalyzer\n",
      "\tLlmFunctionAnalyzer\n",
      "\tLlmProgramAnalyzer\n"
     ]
    }
   ],
   "source": [
    "!ofrak list | grep Llm"
   ]
  },
  {
   "cell_type": "markdown",
   "id": "6a83a791-3841-4701-b429-267ed6b49126",
   "metadata": {},
   "source": [
    "We'll also need to install F5-TTS"
   ]
  },
  {
   "cell_type": "code",
   "execution_count": null,
   "id": "2ed0b5bf-5eb1-419a-a99f-885ad2a559d0",
   "metadata": {},
   "outputs": [],
   "source": [
    "!python -m pip install pydub~=0.25.1 git+https://github.com/SWivid/F5-TTS.git"
   ]
  },
  {
   "cell_type": "markdown",
   "id": "a5ecb2c1-7906-4c46-a6db-e2df28d8123c",
   "metadata": {},
   "source": [
    "## Run the code!"
   ]
  },
  {
   "cell_type": "code",
   "execution_count": 1,
   "id": "e2cacff1-e9db-49b8-862b-3b4d1cf9fc1b",
   "metadata": {},
   "outputs": [],
   "source": [
    "# Set your TTS server URL here\n",
    "TTS_URL = \"http://0.0.0.0:7860\""
   ]
  },
  {
   "cell_type": "code",
   "execution_count": 2,
   "id": "ac833cef-ca43-4b18-9028-e73ebb848f27",
   "metadata": {},
   "outputs": [],
   "source": [
    "import IPython"
   ]
  },
  {
   "cell_type": "code",
   "execution_count": 5,
   "id": "c07897af-2263-483b-922d-0fa4f2d9f9e0",
   "metadata": {},
   "outputs": [],
   "source": [
    "from io import BytesIO\n",
    "\n",
    "from ofrak import OFRAK\n",
    "from ofrak.core import *\n",
    "from ofrak.core.llm import *\n",
    "\n",
    "from debate_components import *"
   ]
  },
  {
   "cell_type": "code",
   "execution_count": 6,
   "id": "1a83f4d8-120a-4ac5-80ef-fc466b427879",
   "metadata": {},
   "outputs": [
    {
     "name": "stdout",
     "output_type": "stream",
     "text": [
      "Using OFRAK Pro License: 06f899eda0cb58e3729a2296ce5fe994.\n",
      "Run 'ofrak license' to see full license details.\n"
     ]
    }
   ],
   "source": [
    "o = OFRAK()\n",
    "import debate_components\n",
    "\n",
    "o.discover(debate_components)\n",
    "ofrak_context = await o.create_ofrak_context()"
   ]
  },
  {
   "cell_type": "code",
   "execution_count": 7,
   "id": "5f31f3b9-ace0-4056-bb0a-4459cffa0e1a",
   "metadata": {},
   "outputs": [],
   "source": [
    "dr_ang_cui_resource = await ofrak_context.create_root_resource_from_file(\n",
    "    \"questions.txt\",\n",
    ")\n",
    "dr_ang_cui_resource.add_view(Person(\"Dr. Ang Cui\", \"voices/Ang_Cui.wav\"))\n",
    "await dr_ang_cui_resource.save()\n",
    "\n",
    "djt_resource = await ofrak_context.create_root_resource(\n",
    "    name=\"Donald Trump\", data=b\"\", tags=(GenericBinary, Person)\n",
    ")\n",
    "djt_resource.add_view(Person(\"Donald Trump\", \"voices/Donald_Trump.wav\"))\n",
    "await djt_resource.save()\n",
    "\n",
    "kh_resource = await ofrak_context.create_root_resource(\n",
    "    name=\"Kamala Harris\",\n",
    "    data=b\"\",\n",
    "    tags=(GenericBinary, Person),\n",
    ")\n",
    "kh_resource.add_view(Person(\"Kamala Harris\", \"voices/Kamala_Harris.wav\"))\n",
    "await kh_resource.save()"
   ]
  },
  {
   "cell_type": "code",
   "execution_count": 10,
   "id": "4b0b358a-4ad7-494a-a65c-89f5b145d49c",
   "metadata": {},
   "outputs": [
    {
     "name": "stdout",
     "output_type": "stream",
     "text": [
      "What is your plan to address the rising national debt and reduce it within the next decade?\n",
      "How do you intend to balance economic growth with increasing income inequality in the United States?\n",
      "What steps would you take to strengthen America's alliances and partnerships in a rapidly changing global landscape?\n",
      "How do you propose addressing climate change, particularly in regards to reducing carbon emissions and transitioning to renewable energy sources?\n",
      "What is your stance on gun control and would you support stricter regulations in the wake of mass shootings?\n",
      "How would you reform the current healthcare system to make it more affordable and accessible to all Americans?\n",
      "What role would you give the federal government in addressing issues related to social media regulation and online misinformation?\n",
      "How do you plan to invest in education, particularly in regards to early childhood education and vocational training programs?\n",
      "Would you support increasing taxes on corporations to fund infrastructure projects and social programs?\n",
      "How would you handle a crisis at the US-Mexico border, including migration and asylum policies?\n",
      "\n"
     ]
    }
   ],
   "source": [
    "debate_questions = await dr_ang_cui_resource.get_data()\n",
    "print(debate_questions.decode())\n",
    "questions = enumerate(debate_questions.decode().splitlines())"
   ]
  },
  {
   "cell_type": "code",
   "execution_count": 15,
   "id": "64618d1b-bb4a-4793-aa23-3cbd38a1674b",
   "metadata": {},
   "outputs": [],
   "source": [
    "async def ask_question(\n",
    "    question: str, moderator: Resource, candidate_one: Resource, candidate_two: Resource\n",
    "):\n",
    "    i, question = question\n",
    "    print(f\"[+] Asking question {i + 1}\")\n",
    "    await dr_ang_cui_resource.run(\n",
    "        TTSAnalyzer,\n",
    "        TTSAnalyzerConfig(start_line=i, num_lines=i + 1, client_url=TTS_URL),\n",
    "    )\n",
    "\n",
    "    IPython.display.Audio(\n",
    "        dr_ang_cui_resource.get_attributes(WavFile).wav, autoplay=True\n",
    "    )\n",
    "\n",
    "    IPython.display.display(\n",
    "        IPython.display.Audio(\n",
    "            dr_ang_cui_resource.get_attributes(WavFile).wav, autoplay=True\n",
    "        )\n",
    "    )\n",
    "\n",
    "    await djt_resource.run(\n",
    "        AnswerQuestionModifier, AnswerQuestionConfig(question, tts_client_url=TTS_URL)\n",
    "    )\n",
    "    IPython.display.display(\n",
    "        IPython.display.Audio(djt_resource.get_attributes(WavFile).wav, autoplay=True)\n",
    "    )\n",
    "\n",
    "    await kh_resource.run(\n",
    "        AnswerQuestionModifier, AnswerQuestionConfig(question, tts_client_url=TTS_URL)\n",
    "    )\n",
    "    IPython.display.display(\n",
    "        IPython.display.Audio(kh_resource.get_attributes(WavFile).wav, autoplay=True)\n",
    "    )"
   ]
  },
  {
   "cell_type": "code",
   "execution_count": null,
   "id": "cf101293-91ef-43f7-95e7-78654a35e305",
   "metadata": {},
   "outputs": [],
   "source": [
    "await ask_question(next(questions), dr_ang_cui_resource, djt_resource, kh_resource)"
   ]
  },
  {
   "cell_type": "code",
   "execution_count": null,
   "id": "17840181-c9cc-4d5f-a77c-7445196d1d80",
   "metadata": {},
   "outputs": [],
   "source": [
    "await ask_question(next(questions), dr_ang_cui_resource, djt_resource, kh_resource)"
   ]
  }
 ],
 "metadata": {
  "kernelspec": {
   "display_name": "Python 3 (ipykernel)",
   "language": "python",
   "name": "python3"
  },
  "language_info": {
   "codemirror_mode": {
    "name": "ipython",
    "version": 3
   },
   "file_extension": ".py",
   "mimetype": "text/x-python",
   "name": "python",
   "nbconvert_exporter": "python",
   "pygments_lexer": "ipython3",
   "version": "3.9.6"
  }
 },
 "nbformat": 4,
 "nbformat_minor": 5
}
